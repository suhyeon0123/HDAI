{
 "cells": [
  {
   "cell_type": "code",
   "execution_count": 1,
   "source": [
    "import os\n",
    "import ECGReader\n",
    "\n",
    "\n",
    "\n",
    "# !pip install xmltodict\n",
    "# !pip install numpy"
   ],
   "outputs": [],
   "metadata": {}
  },
  {
   "cell_type": "code",
   "execution_count": 9,
   "source": [
    "\n",
    "def test(p):\n",
    "    ecg = ECGReader.Reader(p, augmentLeads=True)\n",
    "    \n",
    "    return ecg.getCount()\n"
   ],
   "outputs": [],
   "metadata": {}
  },
  {
   "cell_type": "code",
   "execution_count": 12,
   "source": [
    "pathes = ['data/data/train/arrhythmia', 'data/data/train/normal', 'data/data/validation/arrhythmia', 'data/data/validation/normal']\n",
    "\n",
    "# files = []\n",
    "# for path in pathes:\n",
    "#     files += os.listdir(path)\n",
    "\n",
    "\n",
    "for i in range(4):\n",
    "\n",
    "    files = []\n",
    "    files += os.listdir(pathes[i])\n",
    "\n",
    "    count = [0] * 20\n",
    "\n",
    "    for file in files:\n",
    "        tmp = test(pathes[i] + '/' + file)\n",
    "        if tmp < 15:\n",
    "            count[tmp] = count[tmp]  + 1\n",
    "    print(count)\n",
    "\n",
    "    print('---------------------')\n",
    "\n",
    "\n",
    "\n",
    "# files = []\n",
    "# files += os.listdir(pathes[1])\n",
    "\n",
    "# sev = 0\n",
    "# one = 0\n",
    "# for file in files:\n",
    "#     if  test('data/data/train/normal/' + file):\n",
    "#         sev +=1\n",
    "#     else:\n",
    "#         one+=1\n",
    "# print(sev)\n",
    "# print(one)\n",
    "\n",
    "# print('---------------------')\n",
    "\n",
    "\n",
    "# files = []\n",
    "# files += os.listdir(pathes[2])\n",
    "\n",
    "# sev = 0\n",
    "# one = 0\n",
    "# for file in files:\n",
    "#     if  test('data/data/validation/arrhythmia/' + file):\n",
    "#         sev +=1\n",
    "#     else:\n",
    "#         one+=1\n",
    "# print(sev)\n",
    "# print(one)\n",
    "\n",
    "# print('---------------------')\n",
    "\n",
    "# files = []\n",
    "# files += os.listdir(pathes[3])\n",
    "\n",
    "# sev = 0\n",
    "# one = 0\n",
    "# for file in files:\n",
    "#     if  test('data/data/validation/normal/' + file):\n",
    "#         sev +=1\n",
    "#     else:\n",
    "#         one+=1\n",
    "# print(sev)\n",
    "# print(one)\n",
    "\n",
    "# print('---------------------')\n",
    "\n",
    "# files = []\n",
    "# files += os.listdir(pathes[0])\n",
    "\n",
    "# print(len(files))\n",
    "# print(len(list(filter(lambda x: x[0] == '5' , files))))\n",
    "# print(len(list(filter(lambda x: x[0] == '6' , files))))\n",
    "# print(len(list(filter(lambda x: x[0] == '8' , files))))\n",
    "\n",
    "\n",
    "\n",
    "# print('---------------------')\n",
    "\n",
    "# files = []\n",
    "# files += os.listdir(pathes[1])\n",
    "\n",
    "# print(len(files))\n",
    "# print(len(list(filter(lambda x: x[0] == '5' , files))))\n",
    "# print(len(list(filter(lambda x: x[0] == '6' , files))))\n",
    "# print(len(list(filter(lambda x: x[0] == '8' , files))))\n",
    "\n",
    "# print('---------------------')\n",
    "# files = []\n",
    "# files += os.listdir(pathes[2])\n",
    "\n",
    "# print(len(files))\n",
    "# print(len(list(filter(lambda x: x[0] == '5' , files))))\n",
    "# print(len(list(filter(lambda x: x[0] == '6' , files))))\n",
    "# print(len(list(filter(lambda x: x[0] == '8' , files))))\n",
    "\n",
    "# print('---------------------')\n",
    "# files = []\n",
    "# files += os.listdir(pathes[3])\n",
    "\n",
    "# print(len(files))\n",
    "# print(len(list(filter(lambda x: x[0] == '5' , files))))\n",
    "# print(len(list(filter(lambda x: x[0] == '6' , files))))\n",
    "# print(len(list(filter(lambda x: x[0] == '8' , files))))\n",
    "\n",
    "# print('---------------------')\n",
    "\n"
   ],
   "outputs": [
    {
     "output_type": "stream",
     "name": "stdout",
     "text": [
      "[0, 0, 3332, 0, 0, 0, 7730, 0, 0, 0, 6787, 0, 0, 0, 0, 0, 0, 0, 0, 0]\n",
      "---------------------\n",
      "[0, 0, 21037, 0, 0, 0, 0, 0, 0, 0, 0, 0, 0, 0, 0, 0, 0, 0, 0, 0]\n",
      "---------------------\n",
      "[0, 0, 0, 0, 0, 0, 0, 0, 0, 0, 2232, 0, 0, 0, 0, 0, 0, 0, 0, 0]\n",
      "---------------------\n",
      "[0, 0, 2630, 0, 0, 0, 0, 0, 0, 0, 0, 0, 0, 0, 0, 0, 0, 0, 0, 0]\n",
      "---------------------\n"
     ]
    }
   ],
   "metadata": {}
  },
  {
   "cell_type": "code",
   "execution_count": 27,
   "source": [
    "import xmltodict\n",
    "\n",
    "path_5 = 'data/data/train/arrhythmia/5_2_000436_ecg.xml'\n",
    "with open(path_5, 'rb') as xml:\n",
    "    ECG_5 = xmltodict.parse(xml.read().decode('utf8'))\n",
    "\n",
    "path_6 = 'data/data/train/arrhythmia/6_2_000385_ecg.xml'\n",
    "with open(path_6, 'rb') as xml:\n",
    "    ECG_6 = xmltodict.parse(xml.read().decode('utf8'))\n",
    "\n",
    "path_8 = 'data/data/validation/arrhythmia/8_2_009000_ecg.xml'\n",
    "with open(path_8, 'rb') as xml:\n",
    "    ECG_8 = xmltodict.parse(xml.read().decode('utf8'))\n",
    "    "
   ],
   "outputs": [],
   "metadata": {}
  },
  {
   "cell_type": "code",
   "execution_count": 28,
   "source": [
    "type(ECG_5)"
   ],
   "outputs": [
    {
     "output_type": "execute_result",
     "data": {
      "text/plain": [
       "collections.OrderedDict"
      ]
     },
     "metadata": {},
     "execution_count": 28
    }
   ],
   "metadata": {}
  },
  {
   "cell_type": "code",
   "execution_count": 29,
   "source": [
    "print(ECG_5.keys())"
   ],
   "outputs": [
    {
     "output_type": "stream",
     "name": "stdout",
     "text": [
      "odict_keys(['RestingECG'])\n"
     ]
    }
   ],
   "metadata": {}
  },
  {
   "cell_type": "code",
   "execution_count": 30,
   "source": [
    "print(ECG_5['RestingECG'].keys())"
   ],
   "outputs": [
    {
     "output_type": "stream",
     "name": "stdout",
     "text": [
      "odict_keys(['PatientDemographics', 'Waveform'])\n"
     ]
    }
   ],
   "metadata": {}
  },
  {
   "cell_type": "code",
   "execution_count": 37,
   "source": [
    "print(ECG_5['RestingECG']['PatientDemographics'].keys())\n",
    "print(ECG_5['RestingECG']['PatientDemographics'])"
   ],
   "outputs": [
    {
     "output_type": "stream",
     "name": "stdout",
     "text": [
      "odict_keys(['PatientID'])\n",
      "OrderedDict([('PatientID', '000436')])\n"
     ]
    }
   ],
   "metadata": {}
  },
  {
   "cell_type": "code",
   "execution_count": 36,
   "source": [
    "print(len(ECG_5['RestingECG']['Waveform']))\n",
    "print(len(ECG_6['RestingECG']['Waveform']))\n",
    "print(len(ECG_8['RestingECG']['Waveform']))\n",
    "\n",
    "print(type(ECG_5['RestingECG']['Waveform']))\n",
    "print(type(ECG_6['RestingECG']['Waveform']))\n",
    "print(type(ECG_8['RestingECG']['Waveform']))\n",
    "\n"
   ],
   "outputs": [
    {
     "output_type": "stream",
     "name": "stdout",
     "text": [
      "2\n",
      "6\n",
      "10\n",
      "<class 'list'>\n",
      "<class 'collections.OrderedDict'>\n",
      "<class 'collections.OrderedDict'>\n"
     ]
    }
   ],
   "metadata": {}
  },
  {
   "cell_type": "code",
   "execution_count": 41,
   "source": [
    "## 5번 데이터는 Waveform안에 두개의 리스트가 있고 그안에 waveform 두개가 있다는 사실....\n",
    "#print(ECG_5['RestingECG']['Waveform'])\n",
    "print(ECG_5['RestingECG']['Waveform'][0].keys())\n",
    "print(ECG_5['RestingECG']['Waveform'][1].keys())\n",
    "print(ECG_6['RestingECG']['Waveform'].keys())\n",
    "print(ECG_8['RestingECG']['Waveform'].keys())\n",
    "\n",
    "\n",
    "## 5번과 8번의 타입은 같다 : \n"
   ],
   "outputs": [
    {
     "output_type": "stream",
     "name": "stdout",
     "text": [
      "odict_keys(['WaveformType', 'WaveformStartTime', 'NumberofLeads', 'SampleType', 'SampleBase', 'SampleExponent', 'HighPassFilter', 'LowPassFilter', 'ACFilter', 'LeadData'])\n",
      "odict_keys(['WaveformType', 'WaveformStartTime', 'NumberofLeads', 'SampleType', 'SampleBase', 'SampleExponent', 'HighPassFilter', 'LowPassFilter', 'ACFilter', 'LeadData'])\n",
      "odict_keys(['NumberofLeads', 'SampleBase', 'HighPassFilter', 'LowPassFilter', 'ACFilter', 'LeadData'])\n",
      "odict_keys(['WaveformType', 'WaveformStartTime', 'NumberofLeads', 'SampleType', 'SampleBase', 'SampleExponent', 'HighPassFilter', 'LowPassFilter', 'ACFilter', 'LeadData'])\n"
     ]
    }
   ],
   "metadata": {}
  },
  {
   "cell_type": "code",
   "execution_count": 52,
   "source": [
    "for key, val in ECG_5['RestingECG']['Waveform'][0].items():\n",
    "    if key == 'LeadData':\n",
    "        continue\n",
    "    print(key, val)\n",
    "\n"
   ],
   "outputs": [
    {
     "output_type": "stream",
     "name": "stdout",
     "text": [
      "WaveformType Median\n",
      "WaveformStartTime 0\n",
      "NumberofLeads 8\n",
      "SampleType CONTINUOUS_SAMPLES\n",
      "SampleBase 500\n",
      "SampleExponent 0\n",
      "HighPassFilter 16\n",
      "LowPassFilter 150\n",
      "ACFilter 60\n"
     ]
    }
   ],
   "metadata": {}
  },
  {
   "cell_type": "code",
   "execution_count": 53,
   "source": [
    "for key, val in ECG_5['RestingECG']['Waveform'][1].items():\n",
    "    if key == 'LeadData':\n",
    "        continue\n",
    "    print(key, val)"
   ],
   "outputs": [
    {
     "output_type": "stream",
     "name": "stdout",
     "text": [
      "WaveformType Rhythm\n",
      "WaveformStartTime 0\n",
      "NumberofLeads 8\n",
      "SampleType CONTINUOUS_SAMPLES\n",
      "SampleBase 500\n",
      "SampleExponent 0\n",
      "HighPassFilter 16\n",
      "LowPassFilter 150\n",
      "ACFilter 60\n"
     ]
    }
   ],
   "metadata": {}
  },
  {
   "cell_type": "code",
   "execution_count": 50,
   "source": [
    "for key, val in ECG_6['RestingECG']['Waveform'].items():\n",
    "    if key == 'LeadData':\n",
    "        continue\n",
    "    print(key, val)\n",
    "\n"
   ],
   "outputs": [
    {
     "output_type": "stream",
     "name": "stdout",
     "text": [
      "NumberofLeads 12\n",
      "SampleBase 500\n",
      "HighPassFilter None\n",
      "LowPassFilter None\n",
      "ACFilter None\n"
     ]
    }
   ],
   "metadata": {}
  },
  {
   "cell_type": "code",
   "execution_count": 47,
   "source": [
    "for key, val in ECG_8['RestingECG']['Waveform'].items():\n",
    "    if key == 'LeadData':\n",
    "        continue\n",
    "    print(key, val)\n",
    "\n"
   ],
   "outputs": [
    {
     "output_type": "stream",
     "name": "stdout",
     "text": [
      "WaveformType Rhythm\n",
      "WaveformStartTime 0\n",
      "NumberofLeads 8\n",
      "SampleType CONTINUOUS_SAMPLES\n",
      "SampleBase 500\n",
      "SampleExponent 0\n",
      "HighPassFilter 16\n",
      "LowPassFilter 150\n",
      "ACFilter 60\n",
      "<class 'list'>\n",
      "<class 'collections.OrderedDict'>\n",
      "odict_keys(['LeadByteCountTotal', 'LeadTimeOffset', 'LeadSampleCountTotal', 'LeadAmplitudeUnitsPerBit', 'LeadAmplitudeUnits', 'LeadHighLimit', 'LeadLowLimit', 'LeadID', 'LeadOffsetFirstSample', 'FirstSampleBaseline', 'LeadSampleSize', 'LeadOff', 'BaselineSway', 'ExcessiveACNoise', 'MuscleNoise', 'LeadDataCRC32', 'WaveFormData'])\n"
     ]
    }
   ],
   "metadata": {}
  },
  {
   "cell_type": "code",
   "execution_count": 48,
   "source": [
    "print(type(ECG_8['RestingECG']['Waveform']['LeadData']))\n",
    "print(type(ECG_8['RestingECG']['Waveform']['LeadData'][0]))\n",
    "print(ECG_8['RestingECG']['Waveform']['LeadData'][0].keys())"
   ],
   "outputs": [
    {
     "output_type": "stream",
     "name": "stdout",
     "text": [
      "<class 'list'>\n",
      "<class 'collections.OrderedDict'>\n",
      "odict_keys(['LeadByteCountTotal', 'LeadTimeOffset', 'LeadSampleCountTotal', 'LeadAmplitudeUnitsPerBit', 'LeadAmplitudeUnits', 'LeadHighLimit', 'LeadLowLimit', 'LeadID', 'LeadOffsetFirstSample', 'FirstSampleBaseline', 'LeadSampleSize', 'LeadOff', 'BaselineSway', 'ExcessiveACNoise', 'MuscleNoise', 'LeadDataCRC32', 'WaveFormData'])\n"
     ]
    }
   ],
   "metadata": {}
  },
  {
   "cell_type": "code",
   "execution_count": 49,
   "source": [
    "for key, val in ECG_8['RestingECG']['Waveform']['LeadData'][0].items():\n",
    "    if key == 'WaveFormData':\n",
    "        continue\n",
    "    print(key, val)"
   ],
   "outputs": [
    {
     "output_type": "stream",
     "name": "stdout",
     "text": [
      "LeadByteCountTotal 10000\n",
      "LeadTimeOffset 0\n",
      "LeadSampleCountTotal 5000\n",
      "LeadAmplitudeUnitsPerBit 4.88\n",
      "LeadAmplitudeUnits MICROVOLTS\n",
      "LeadHighLimit 2147483647\n",
      "LeadLowLimit 268435456\n",
      "LeadID I\n",
      "LeadOffsetFirstSample 0\n",
      "FirstSampleBaseline 0\n",
      "LeadSampleSize 2\n",
      "LeadOff FALSE\n",
      "BaselineSway FALSE\n",
      "ExcessiveACNoise FALSE\n",
      "MuscleNoise FALSE\n",
      "LeadDataCRC32 1279242682\n"
     ]
    }
   ],
   "metadata": {}
  },
  {
   "cell_type": "code",
   "execution_count": 54,
   "source": [
    "# 5번과 8번은 I, II, V1 ~ V6 까지 8개의 lead가 존재한다."
   ],
   "outputs": [],
   "metadata": {}
  },
  {
   "cell_type": "code",
   "execution_count": 55,
   "source": [
    "for lead in ECG_8['RestingECG']['Waveform']['LeadData']:\n",
    "    print(lead['LeadID'])\n",
    "    "
   ],
   "outputs": [
    {
     "output_type": "stream",
     "name": "stdout",
     "text": [
      "I\n",
      "II\n",
      "V1\n",
      "V2\n",
      "V3\n",
      "V4\n",
      "V5\n",
      "V6\n"
     ]
    }
   ],
   "metadata": {}
  },
  {
   "cell_type": "code",
   "execution_count": 56,
   "source": [
    "for lead in ECG_6['RestingECG']['Waveform']['LeadData']:\n",
    "    print(lead['LeadID'])"
   ],
   "outputs": [
    {
     "output_type": "stream",
     "name": "stdout",
     "text": [
      "I\n",
      "II\n",
      "III\n",
      "aVR\n",
      "aVL\n",
      "aVF\n",
      "V1\n",
      "V2\n",
      "V3\n",
      "V4\n",
      "V5\n",
      "V6\n"
     ]
    }
   ],
   "metadata": {}
  },
  {
   "cell_type": "code",
   "execution_count": 2,
   "source": [
    "path = 'data/data/validation/arrhythmia/8_2_009000_ecg.xml'\n",
    "ecg = ECGReader.Reader(path, augmentLeads=True)\n",
    "vol = ecg.getAllVoltages()"
   ],
   "outputs": [],
   "metadata": {}
  },
  {
   "cell_type": "code",
   "execution_count": 5,
   "source": [
    "print(type(vol))\n",
    "for key, val in vol.items():\n",
    "    print(key, len(val))"
   ],
   "outputs": [
    {
     "output_type": "stream",
     "name": "stdout",
     "text": [
      "<class 'dict'>\n",
      "I 5000\n",
      "II 5000\n",
      "V1 5000\n",
      "V2 5000\n",
      "V3 5000\n",
      "V4 5000\n",
      "V5 5000\n",
      "V6 5000\n",
      "III 5000\n",
      "aVR 5000\n",
      "aVL 5000\n",
      "aVF 5000\n"
     ]
    }
   ],
   "metadata": {}
  },
  {
   "cell_type": "code",
   "execution_count": null,
   "source": [],
   "outputs": [],
   "metadata": {}
  }
 ],
 "metadata": {
  "orig_nbformat": 4,
  "language_info": {
   "name": "python",
   "version": "3.8.12",
   "mimetype": "text/x-python",
   "codemirror_mode": {
    "name": "ipython",
    "version": 3
   },
   "pygments_lexer": "ipython3",
   "nbconvert_exporter": "python",
   "file_extension": ".py"
  },
  "kernelspec": {
   "name": "python3",
   "display_name": "Python 3.8.12 64-bit ('HDAI': conda)"
  },
  "interpreter": {
   "hash": "b8463390df91424cbacf3d29d9f1723bc16c47483e72c29fc14877c8943b1f33"
  }
 },
 "nbformat": 4,
 "nbformat_minor": 2
}